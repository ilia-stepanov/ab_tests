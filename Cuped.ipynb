{
  "nbformat": 4,
  "nbformat_minor": 0,
  "metadata": {
    "colab": {
      "name": "Cuped.ipynb",
      "provenance": [],
      "collapsed_sections": [],
      "authorship_tag": "ABX9TyP7BdBKP6GkT9rSJ5JU5EsW",
      "include_colab_link": true
    },
    "kernelspec": {
      "name": "python3",
      "display_name": "Python 3"
    },
    "language_info": {
      "name": "python"
    }
  },
  "cells": [
    {
      "cell_type": "markdown",
      "metadata": {
        "id": "view-in-github",
        "colab_type": "text"
      },
      "source": [
        "<a href=\"https://colab.research.google.com/github/ilia-stepanov/ab_tests/blob/main/Cuped.ipynb\" target=\"_parent\"><img src=\"https://colab.research.google.com/assets/colab-badge.svg\" alt=\"Open In Colab\"/></a>"
      ]
    },
    {
      "cell_type": "code",
      "metadata": {
        "id": "e1JqPNoIs6sK"
      },
      "source": [
        "import pandas as pd\n",
        "import numpy as np\n",
        "import matplotlib\n",
        "import matplotlib.pyplot as plt\n",
        "from scipy import stats\n",
        "from sklearn.datasets import make_regression"
      ],
      "execution_count": 1,
      "outputs": []
    },
    {
      "cell_type": "code",
      "metadata": {
        "colab": {
          "base_uri": "https://localhost:8080/",
          "height": 110
        },
        "id": "0cnKZsOYuH1I",
        "outputId": "ba31990a-60a9-42e4-ff93-0968ef629730"
      },
      "source": [
        "X, y = make_regression(n_samples=1000, n_features=1, n_informative=1, n_targets=1, random_state=2, noise=70)\n",
        "df = pd.DataFrame(X).merge(pd.DataFrame(y), left_index=True, right_index=True)\n",
        "df.columns = ['covariate', 'target']\n",
        "df.corr()"
      ],
      "execution_count": 2,
      "outputs": [
        {
          "output_type": "execute_result",
          "data": {
            "text/html": [
              "<div>\n",
              "<style scoped>\n",
              "    .dataframe tbody tr th:only-of-type {\n",
              "        vertical-align: middle;\n",
              "    }\n",
              "\n",
              "    .dataframe tbody tr th {\n",
              "        vertical-align: top;\n",
              "    }\n",
              "\n",
              "    .dataframe thead th {\n",
              "        text-align: right;\n",
              "    }\n",
              "</style>\n",
              "<table border=\"1\" class=\"dataframe\">\n",
              "  <thead>\n",
              "    <tr style=\"text-align: right;\">\n",
              "      <th></th>\n",
              "      <th>covariate</th>\n",
              "      <th>target</th>\n",
              "    </tr>\n",
              "  </thead>\n",
              "  <tbody>\n",
              "    <tr>\n",
              "      <th>covariate</th>\n",
              "      <td>1.000000</td>\n",
              "      <td>0.800311</td>\n",
              "    </tr>\n",
              "    <tr>\n",
              "      <th>target</th>\n",
              "      <td>0.800311</td>\n",
              "      <td>1.000000</td>\n",
              "    </tr>\n",
              "  </tbody>\n",
              "</table>\n",
              "</div>"
            ],
            "text/plain": [
              "           covariate    target\n",
              "covariate   1.000000  0.800311\n",
              "target      0.800311  1.000000"
            ]
          },
          "metadata": {},
          "execution_count": 2
        }
      ]
    },
    {
      "cell_type": "code",
      "metadata": {
        "colab": {
          "base_uri": "https://localhost:8080/"
        },
        "id": "ESSHeCHSwWLo",
        "outputId": "2508cbf3-f786-401f-fe3f-c9edeab54ad2"
      },
      "source": [
        "index_a = df.sample(500, random_state=15).index\n",
        "\n",
        "x = df.target[df.index.isin(index_a)]\n",
        "y = df.target[df.index.isin(index_a)==False]\n",
        "print('ttest_ind', stats.ttest_ind(x, y), 'mannwhitneyu', stats.mannwhitneyu(x, y), 'x_mean', x.mean(), 'y_mean', y.mean(), 'x_median', x.median(), 'y_median', y.median(), sep='\\n')"
      ],
      "execution_count": 3,
      "outputs": [
        {
          "output_type": "stream",
          "name": "stdout",
          "text": [
            "ttest_ind\n",
            "Ttest_indResult(statistic=-0.03023732721667363, pvalue=0.9758838248814645)\n",
            "mannwhitneyu\n",
            "MannwhitneyuResult(statistic=124168.0, pvalue=0.42775938163668803)\n",
            "x_mean\n",
            "-3.918625275557557\n",
            "y_mean\n",
            "-3.703456502522179\n",
            "x_median\n",
            "-9.863889276798762\n",
            "y_median\n",
            "-7.703052286886049\n"
          ]
        }
      ]
    },
    {
      "cell_type": "code",
      "metadata": {
        "colab": {
          "base_uri": "https://localhost:8080/"
        },
        "id": "kq4N0J3YYmIe",
        "outputId": "56b5176f-99cc-4576-f09b-224643a5d72b"
      },
      "source": [
        "theta = np.cov(df.covariate, df.target)[0][1] / np.var(df.covariate)\n",
        "df['target_cuped'] = df.target - (df.covariate - df.covariate.mean()) * theta\n",
        "x = df.target_cuped[df.index.isin(index_a)]\n",
        "y = df.target_cuped[df.index.isin(index_a)==False]\n",
        "\n",
        "print('ttest_ind', stats.ttest_ind(x, y), 'mannwhitneyu', stats.mannwhitneyu(x, y), 'x_mean', x.mean(), 'y_mean', y.mean(), 'x_median', x.median(), 'y_median', y.median(), sep='\\n')"
      ],
      "execution_count": 4,
      "outputs": [
        {
          "output_type": "stream",
          "name": "stdout",
          "text": [
            "ttest_ind\n",
            "Ttest_indResult(statistic=-0.14984472535130253, pvalue=0.8809173983137331)\n",
            "mannwhitneyu\n",
            "MannwhitneyuResult(statistic=124095.0, pvalue=0.4214963168414342)\n",
            "x_mean\n",
            "-4.130704940170374\n",
            "y_mean\n",
            "-3.491376837909364\n",
            "x_median\n",
            "-8.710434934294412\n",
            "y_median\n",
            "-4.559686376285528\n"
          ]
        }
      ]
    },
    {
      "cell_type": "markdown",
      "metadata": {
        "id": "FlAM9JkU_-HW"
      },
      "source": [
        "# Adding 15% growth for a group"
      ]
    },
    {
      "cell_type": "code",
      "metadata": {
        "id": "KHUmX-Yp1mnu"
      },
      "source": [
        "df_copy = df.copy()"
      ],
      "execution_count": 6,
      "outputs": []
    },
    {
      "cell_type": "code",
      "metadata": {
        "id": "ArJBNzgE0gOg"
      },
      "source": [
        "df.target[df.index.isin(index_a)] = df.target[df.index.isin(index_a)] + (df.target[df.index.isin(index_a)].abs() * 0.15)"
      ],
      "execution_count": 7,
      "outputs": []
    },
    {
      "cell_type": "code",
      "metadata": {
        "colab": {
          "base_uri": "https://localhost:8080/"
        },
        "id": "JnZmq4BN0BgT",
        "outputId": "fd315fff-5725-4433-ae49-077fa65774d5"
      },
      "source": [
        "x = df.target[df.index.isin(index_a)]\n",
        "y = df.target[df.index.isin(index_a)==False]\n",
        "\n",
        "print('ttest_ind', stats.ttest_ind(x, y), 'mannwhitneyu', stats.mannwhitneyu(x, y), 'x_mean', x.mean(), 'y_mean', y.mean(), 'x_median', x.median(), 'y_median', y.median(), sep='\\n')"
      ],
      "execution_count": 8,
      "outputs": [
        {
          "output_type": "stream",
          "name": "stdout",
          "text": [
            "ttest_ind\n",
            "Ttest_indResult(statistic=1.8035741751083179, pvalue=0.07159956494207757)\n",
            "mannwhitneyu\n",
            "MannwhitneyuResult(statistic=119578.0, pvalue=0.11757482637927646)\n",
            "x_mean\n",
            "9.19071660071462\n",
            "y_mean\n",
            "-3.703456502522179\n",
            "x_median\n",
            "-8.384305885278948\n",
            "y_median\n",
            "-7.703052286886049\n"
          ]
        }
      ]
    },
    {
      "cell_type": "code",
      "metadata": {
        "colab": {
          "base_uri": "https://localhost:8080/"
        },
        "id": "Q-Q26AHEzW_z",
        "outputId": "8d8e8f6a-00e2-45c0-be10-640f8371c9f6"
      },
      "source": [
        "theta = np.cov(df.covariate, df.target)[0][1] / np.var(df.covariate)\n",
        "df['target_cuped'] = df.target - (df.covariate - df.covariate.mean()) * theta\n",
        "df.describe()\n",
        "\n",
        "x = df[df.index.isin(index_a)].target_cuped\n",
        "y = df[df.index.isin(index_a)==False].target_cuped\n",
        "\n",
        "print('ttest_ind', stats.ttest_ind(x, y), 'mannwhitneyu', stats.mannwhitneyu(x, y), 'x_mean', x.mean(), 'y_mean', y.mean(), 'x_median', x.median(), 'y_median', y.median(), sep='\\n')"
      ],
      "execution_count": 9,
      "outputs": [
        {
          "output_type": "stream",
          "name": "stdout",
          "text": [
            "ttest_ind\n",
            "Ttest_indResult(statistic=2.906075259654106, pvalue=0.0037408097780002167)\n",
            "mannwhitneyu\n",
            "MannwhitneyuResult(statistic=113840.0, pvalue=0.007268706234286514)\n",
            "x_mean\n",
            "8.977717513021314\n",
            "y_mean\n",
            "-3.490457414828858\n",
            "x_median\n",
            "2.249955259952494\n",
            "y_median\n",
            "-4.323375396241051\n"
          ]
        }
      ]
    },
    {
      "cell_type": "code",
      "metadata": {
        "colab": {
          "base_uri": "https://localhost:8080/",
          "height": 282
        },
        "id": "6Hp689Av4XEd",
        "outputId": "063c37db-a123-430d-ade8-aaf082719a3b"
      },
      "source": [
        "df.target.hist()"
      ],
      "execution_count": 10,
      "outputs": [
        {
          "output_type": "execute_result",
          "data": {
            "text/plain": [
              "<matplotlib.axes._subplots.AxesSubplot at 0x7f67b8ba9150>"
            ]
          },
          "metadata": {},
          "execution_count": 10
        },
        {
          "output_type": "display_data",
          "data": {
            "image/png": "[encoded data removed]",
            "text/plain": [
              "<Figure size 432x288 with 1 Axes>"
            ]
          },
          "metadata": {
            "needs_background": "light"
          }
        }
      ]
    },
    {
      "cell_type": "code",
      "metadata": {
        "colab": {
          "base_uri": "https://localhost:8080/",
          "height": 282
        },
        "id": "aVJq4ip-4Uqj",
        "outputId": "61471f3e-0588-4914-f042-7aeb6406007c"
      },
      "source": [
        "df.target_cuped.hist()"
      ],
      "execution_count": 11,
      "outputs": [
        {
          "output_type": "execute_result",
          "data": {
            "text/plain": [
              "<matplotlib.axes._subplots.AxesSubplot at 0x7f67b8a98e50>"
            ]
          },
          "metadata": {},
          "execution_count": 11
        },
        {
          "output_type": "display_data",
          "data": {
            "image/png": "[encoded data removed]",
            "text/plain": [
              "<Figure size 432x288 with 1 Axes>"
            ]
          },
          "metadata": {
            "needs_background": "light"
          }
        }
      ]
    },
    {
      "cell_type": "code",
      "metadata": {
        "colab": {
          "base_uri": "https://localhost:8080/",
          "height": 285
        },
        "id": "gVe1OsqC4837",
        "outputId": "026e3b3b-90dd-43e9-9084-2bd12bbfc48c"
      },
      "source": [
        "df.target[df.index.isin(index_a)].hist()"
      ],
      "execution_count": 12,
      "outputs": [
        {
          "output_type": "execute_result",
          "data": {
            "text/plain": [
              "<matplotlib.axes._subplots.AxesSubplot at 0x7f67b85e0990>"
            ]
          },
          "metadata": {},
          "execution_count": 12
        },
        {
          "output_type": "display_data",
          "data": {
            "image/png": "[encoded data removed]",
            "text/plain": [
              "<Figure size 432x288 with 1 Axes>"
            ]
          },
          "metadata": {
            "needs_background": "light"
          }
        }
      ]
    },
    {
      "cell_type": "code",
      "metadata": {
        "colab": {
          "base_uri": "https://localhost:8080/",
          "height": 282
        },
        "id": "N5iNZSC64y2n",
        "outputId": "24a52ad9-ea51-4f77-948d-47dce6159e74"
      },
      "source": [
        "df.target_cuped[df.index.isin(index_a)].hist()"
      ],
      "execution_count": 13,
      "outputs": [
        {
          "output_type": "execute_result",
          "data": {
            "text/plain": [
              "<matplotlib.axes._subplots.AxesSubplot at 0x7f67b85e63d0>"
            ]
          },
          "metadata": {},
          "execution_count": 13
        },
        {
          "output_type": "display_data",
          "data": {
            "image/png": "[encoded data removed]",
            "text/plain": [
              "<Figure size 432x288 with 1 Axes>"
            ]
          },
          "metadata": {
            "needs_background": "light"
          }
        }
      ]
    },
    {
      "cell_type": "code",
      "metadata": {
        "colab": {
          "base_uri": "https://localhost:8080/",
          "height": 282
        },
        "id": "JaJN5D8Z488U",
        "outputId": "9118445e-c696-45a1-d172-d568fa514376"
      },
      "source": [
        "df.target[df.index.isin(index_a)==False].hist()"
      ],
      "execution_count": 14,
      "outputs": [
        {
          "output_type": "execute_result",
          "data": {
            "text/plain": [
              "<matplotlib.axes._subplots.AxesSubplot at 0x7f67b849b690>"
            ]
          },
          "metadata": {},
          "execution_count": 14
        },
        {
          "output_type": "display_data",
          "data": {
            "image/png": "[encoded data removed]",
            "text/plain": [
              "<Figure size 432x288 with 1 Axes>"
            ]
          },
          "metadata": {
            "needs_background": "light"
          }
        }
      ]
    },
    {
      "cell_type": "code",
      "metadata": {
        "colab": {
          "base_uri": "https://localhost:8080/",
          "height": 282
        },
        "id": "PwzbD56s4y78",
        "outputId": "683c0cdd-bda9-43a3-d48a-4e27ed8a4ec7"
      },
      "source": [
        "df.target_cuped[df.index.isin(index_a)==False].hist()"
      ],
      "execution_count": 15,
      "outputs": [
        {
          "output_type": "execute_result",
          "data": {
            "text/plain": [
              "<matplotlib.axes._subplots.AxesSubplot at 0x7f67b8503f90>"
            ]
          },
          "metadata": {},
          "execution_count": 15
        },
        {
          "output_type": "display_data",
          "data": {
            "image/png": "[encoded data removed]",
            "text/plain": [
              "<Figure size 432x288 with 1 Axes>"
            ]
          },
          "metadata": {
            "needs_background": "light"
          }
        }
      ]
    },
    {
      "cell_type": "code",
      "metadata": {
        "id": "qxphfoYDAJef"
      },
      "source": [
        ""
      ],
      "execution_count": null,
      "outputs": []
    },
    {
      "cell_type": "code",
      "metadata": {
        "id": "meAWFekjAJxj"
      },
      "source": [
        "Source:\n",
        "https://booking.ai/how-booking-com-increases-the-power-of-online-experiments-with-cuped-995d186fff1d\n",
        "https://towardsdatascience.com/cuped-r-shiny-tool-7a4869d77f0a\n",
        "https://medium.com/statistics-experiments/cuped-%D0%B8%D0%BB%D0%B8-%D1%83%D0%B2%D0%B5%D0%BB%D0%B8%D1%87%D0%B5%D0%BD%D0%B8%D0%B5-%D1%87%D1%83%D0%B2%D1%81%D1%82%D0%B2%D0%B8%D1%82%D0%B5%D0%BB%D1%8C%D0%BD%D0%BE%D1%81%D1%82%D0%B8-%D0%BC%D0%B5%D1%82%D1%80%D0%B8%D0%BA%D0%B8-de7183fc964c\n",
        "https://towardsdatascience.com/online-experiments-tricks-variance-reduction-291b6032dcd7\n",
        "https://towardsdatascience.com/having-issues-with-under-powered-a-b-tests-try-controlling-your-variability-903748f0aefd\n",
        "\n"
      ],
      "execution_count": null,
      "outputs": []
    }
  ]
}